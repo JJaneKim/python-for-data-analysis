{
 "cells": [
  {
   "cell_type": "code",
   "execution_count": 2,
   "metadata": {},
   "outputs": [],
   "source": [
    "import numpy as np "
   ]
  },
  {
   "cell_type": "code",
   "execution_count": 3,
   "metadata": {},
   "outputs": [
    {
     "data": {
      "text/plain": [
       "array([ 0,  1,  2,  3,  4,  5,  6,  7,  8,  9, 10, 11, 12, 13, 14])"
      ]
     },
     "execution_count": 3,
     "metadata": {},
     "output_type": "execute_result"
    }
   ],
   "source": [
    "np.arange(15)"
   ]
  },
  {
   "cell_type": "code",
   "execution_count": 4,
   "metadata": {},
   "outputs": [
    {
     "data": {
      "text/plain": [
       "[0, 1, 2, 3, 4, 5, 6, 7, 8, 9, 10, 11, 12, 13, 14]"
      ]
     },
     "execution_count": 4,
     "metadata": {},
     "output_type": "execute_result"
    }
   ],
   "source": [
    "list(range(15))"
   ]
  },
  {
   "cell_type": "code",
   "execution_count": 15,
   "metadata": {},
   "outputs": [
    {
     "data": {
      "text/plain": [
       "array([[[8.71380723e-312, 3.16202013e-322],\n",
       "        [0.00000000e+000, 0.00000000e+000],\n",
       "        [0.00000000e+000, 3.40920402e-057]],\n",
       "\n",
       "       [[1.85489070e-051, 4.50623645e+174],\n",
       "        [9.51333340e-047, 1.10524360e+165],\n",
       "        [3.75923465e+179, 2.31656495e-052]]])"
      ]
     },
     "execution_count": 15,
     "metadata": {},
     "output_type": "execute_result"
    }
   ],
   "source": [
    "np.empty((2,3,2))"
   ]
  },
  {
   "cell_type": "code",
   "execution_count": 63,
   "metadata": {},
   "outputs": [
    {
     "data": {
      "text/plain": [
       "dtype('int32')"
      ]
     },
     "execution_count": 63,
     "metadata": {},
     "output_type": "execute_result"
    }
   ],
   "source": [
    "arr1=np.array([1,2,3,4,5])\n",
    "arr1.dtype"
   ]
  },
  {
   "cell_type": "code",
   "execution_count": 64,
   "metadata": {},
   "outputs": [
    {
     "data": {
      "text/plain": [
       "dtype('float64')"
      ]
     },
     "execution_count": 64,
     "metadata": {},
     "output_type": "execute_result"
    }
   ],
   "source": [
    "float_arr1=arr1.astype(np.float64)\n",
    "float_arr1.dtype"
   ]
  },
  {
   "cell_type": "code",
   "execution_count": 67,
   "metadata": {},
   "outputs": [
    {
     "data": {
      "text/plain": [
       "dtype('float64')"
      ]
     },
     "execution_count": 67,
     "metadata": {},
     "output_type": "execute_result"
    }
   ],
   "source": [
    "arr3=np.array([1,2,3],dtype=np.float64)\n",
    "arr3.dtype"
   ]
  },
  {
   "cell_type": "code",
   "execution_count": 25,
   "metadata": {},
   "outputs": [
    {
     "data": {
      "text/plain": [
       "array([1., 2., 3., 4., 5., 6.])"
      ]
     },
     "execution_count": 25,
     "metadata": {},
     "output_type": "execute_result"
    }
   ],
   "source": [
    "arr=np.array([1,2,3,4,5,6])\n",
    "arr.astype(np.float64)"
   ]
  },
  {
   "cell_type": "code",
   "execution_count": 26,
   "metadata": {},
   "outputs": [
    {
     "data": {
      "text/plain": [
       "array([1., 2., 3., 4., 5., 6.])"
      ]
     },
     "execution_count": 26,
     "metadata": {},
     "output_type": "execute_result"
    }
   ],
   "source": [
    "arr=np.array([1,2,3,4,5,6])\n",
    "arr.astype(float)\n"
   ]
  },
  {
   "cell_type": "code",
   "execution_count": 70,
   "metadata": {},
   "outputs": [
    {
     "data": {
      "text/plain": [
       "array([ 3.7, -1.2, -2.6,  0.5, 12.9, 10.1])"
      ]
     },
     "execution_count": 70,
     "metadata": {},
     "output_type": "execute_result"
    }
   ],
   "source": [
    "arr4=np.array([3.7,-1.2,-2.6,0.5,12.9,10.1])\n",
    "arr4"
   ]
  },
  {
   "cell_type": "code",
   "execution_count": 71,
   "metadata": {},
   "outputs": [
    {
     "data": {
      "text/plain": [
       "array([ 3, -1, -2,  0, 12, 10])"
      ]
     },
     "execution_count": 71,
     "metadata": {},
     "output_type": "execute_result"
    }
   ],
   "source": [
    "arr4.astype(np.int32)"
   ]
  },
  {
   "cell_type": "code",
   "execution_count": 72,
   "metadata": {},
   "outputs": [
    {
     "data": {
      "text/plain": [
       "dtype('float64')"
      ]
     },
     "execution_count": 72,
     "metadata": {},
     "output_type": "execute_result"
    }
   ],
   "source": [
    "arr4.dtype\n",
    "dtype('float64')"
   ]
  },
  {
   "cell_type": "code",
   "execution_count": 73,
   "metadata": {},
   "outputs": [
    {
     "data": {
      "text/plain": [
       "dtype('int32')"
      ]
     },
     "execution_count": 73,
     "metadata": {},
     "output_type": "execute_result"
    }
   ],
   "source": [
    "arr5=arr4.astype(np.int32)\n",
    "arr5.dtype"
   ]
  },
  {
   "cell_type": "code",
   "execution_count": 21,
   "metadata": {},
   "outputs": [
    {
     "data": {
      "text/plain": [
       "array([1.1, 2.2, 3.3])"
      ]
     },
     "execution_count": 21,
     "metadata": {},
     "output_type": "execute_result"
    }
   ],
   "source": [
    "arr=np.array(['1.1','2.2','3.3'])\n",
    "arr.astype(float)"
   ]
  },
  {
   "cell_type": "code",
   "execution_count": 74,
   "metadata": {},
   "outputs": [
    {
     "data": {
      "text/plain": [
       "array([2718678184,        410, 1599436526, 1645630477, 1745310583,\n",
       "       1825934317, 1801670157,  805468270], dtype=uint32)"
      ]
     },
     "execution_count": 74,
     "metadata": {},
     "output_type": "execute_result"
    }
   ],
   "source": [
    "empty_uint32 = np.empty(8, dtype='u4')\n",
    "empty_uint32"
   ]
  },
  {
   "cell_type": "code",
   "execution_count": 5,
   "metadata": {},
   "outputs": [
    {
     "data": {
      "text/plain": [
       "array([[ True, False,  True],\n",
       "       [False,  True, False]])"
      ]
     },
     "execution_count": 5,
     "metadata": {},
     "output_type": "execute_result"
    }
   ],
   "source": [
    "arr1=np.array([[1,2,3],[4,5,6]])\n",
    "arr2=np.array([[0,4,1],[7,2,12]])\n",
    "arr1>arr2"
   ]
  },
  {
   "cell_type": "code",
   "execution_count": 17,
   "metadata": {},
   "outputs": [
    {
     "data": {
      "text/plain": [
       "array([0, 1, 2, 3, 4, 5, 6, 7, 8, 9])"
      ]
     },
     "execution_count": 17,
     "metadata": {},
     "output_type": "execute_result"
    }
   ],
   "source": [
    "arr=np.arange(10)\n",
    "arr"
   ]
  },
  {
   "cell_type": "code",
   "execution_count": 18,
   "metadata": {},
   "outputs": [
    {
     "data": {
      "text/plain": [
       "array([ 0,  1,  2,  3,  4, 12, 12, 12,  8,  9])"
      ]
     },
     "execution_count": 18,
     "metadata": {},
     "output_type": "execute_result"
    }
   ],
   "source": [
    "arr[5:8]=12\n",
    "arr"
   ]
  },
  {
   "cell_type": "code",
   "execution_count": 19,
   "metadata": {},
   "outputs": [
    {
     "data": {
      "text/plain": [
       "array([12, 12, 12])"
      ]
     },
     "execution_count": 19,
     "metadata": {},
     "output_type": "execute_result"
    }
   ],
   "source": [
    "arr1=arr[5:8]\n",
    "arr1"
   ]
  },
  {
   "cell_type": "code",
   "execution_count": 20,
   "metadata": {},
   "outputs": [
    {
     "data": {
      "text/plain": [
       "array([    0,     1,     2,     3,     4,    12, 12345,    12,     8,\n",
       "           9])"
      ]
     },
     "execution_count": 20,
     "metadata": {},
     "output_type": "execute_result"
    }
   ],
   "source": [
    "arr1[1]=12345\n",
    "arr"
   ]
  },
  {
   "cell_type": "code",
   "execution_count": 21,
   "metadata": {},
   "outputs": [
    {
     "data": {
      "text/plain": [
       "array([   12, 12345,    12])"
      ]
     },
     "execution_count": 21,
     "metadata": {},
     "output_type": "execute_result"
    }
   ],
   "source": [
    "arr1"
   ]
  },
  {
   "cell_type": "code",
   "execution_count": 26,
   "metadata": {},
   "outputs": [
    {
     "data": {
      "text/plain": [
       "array([  0,   1,   2,   3,   4,  12, 345,  12,   8,   9])"
      ]
     },
     "execution_count": 26,
     "metadata": {},
     "output_type": "execute_result"
    }
   ],
   "source": [
    "arr=np.arange(10)\n",
    "arr[5:8]=12\n",
    "arr1=arr[5:8]\n",
    "arr1[1]=345\n",
    "arr"
   ]
  },
  {
   "cell_type": "code",
   "execution_count": 27,
   "metadata": {},
   "outputs": [
    {
     "data": {
      "text/plain": [
       "array([0, 1, 2, 3, 4, 5, 6, 7, 8, 9])"
      ]
     },
     "execution_count": 27,
     "metadata": {},
     "output_type": "execute_result"
    }
   ],
   "source": [
    "arr=np.arange(10)\n",
    "arr2=arr[5:8].copy()\n",
    "arr2[1]=789\n",
    "arr"
   ]
  },
  {
   "cell_type": "code",
   "execution_count": 28,
   "metadata": {},
   "outputs": [
    {
     "data": {
      "text/plain": [
       "array([[ 0.41008384,  0.04064367,  0.12384752, -0.14098731],\n",
       "       [ 0.34411408,  0.74435263,  0.80387394, -0.27596526]])"
      ]
     },
     "execution_count": 28,
     "metadata": {},
     "output_type": "execute_result"
    }
   ],
   "source": [
    "names = np.array(['Bob', 'Joe', 'Will', 'Bob', 'Will', 'Joe', 'Joe'])\n",
    "data = np.random.randn(7, 4)\n",
    "data[names=='Bob']"
   ]
  },
  {
   "cell_type": "code",
   "execution_count": 29,
   "metadata": {},
   "outputs": [
    {
     "data": {
      "text/plain": [
       "array([[ 4,  5,  6,  7],\n",
       "       [20, 21, 22, 23],\n",
       "       [28, 29, 30, 31],\n",
       "       [ 8,  9, 10, 11]])"
      ]
     },
     "execution_count": 29,
     "metadata": {},
     "output_type": "execute_result"
    }
   ],
   "source": [
    "arr = np.arange(32).reshape((8, 4))\n",
    "arr[[1, 5, 7, 2]]"
   ]
  },
  {
   "cell_type": "code",
   "execution_count": 48,
   "metadata": {},
   "outputs": [
    {
     "data": {
      "text/plain": [
       "array([[[ 0,  1,  2,  3],\n",
       "        [ 4,  5,  6,  7]],\n",
       "\n",
       "       [[ 8,  9, 10, 11],\n",
       "        [12, 13, 14, 15]]])"
      ]
     },
     "execution_count": 48,
     "metadata": {},
     "output_type": "execute_result"
    }
   ],
   "source": [
    "arr = np.arange(16).reshape((2, 2, 4))\n",
    "arr"
   ]
  },
  {
   "cell_type": "code",
   "execution_count": 49,
   "metadata": {},
   "outputs": [
    {
     "data": {
      "text/plain": [
       "array([[[ 0,  1,  2,  3],\n",
       "        [ 8,  9, 10, 11]],\n",
       "\n",
       "       [[ 4,  5,  6,  7],\n",
       "        [12, 13, 14, 15]]])"
      ]
     },
     "execution_count": 49,
     "metadata": {},
     "output_type": "execute_result"
    }
   ],
   "source": [
    "arr.transpose((1, 0, 2))"
   ]
  },
  {
   "cell_type": "code",
   "execution_count": null,
   "metadata": {},
   "outputs": [],
   "source": []
  },
  {
   "cell_type": "code",
   "execution_count": 45,
   "metadata": {},
   "outputs": [
    {
     "data": {
      "text/plain": [
       "array([[[ 0,  8],\n",
       "        [ 4, 12]],\n",
       "\n",
       "       [[ 1,  9],\n",
       "        [ 5, 13]],\n",
       "\n",
       "       [[ 2, 10],\n",
       "        [ 6, 14]],\n",
       "\n",
       "       [[ 3, 11],\n",
       "        [ 7, 15]]])"
      ]
     },
     "execution_count": 45,
     "metadata": {},
     "output_type": "execute_result"
    }
   ],
   "source": [
    "arr.transpose()"
   ]
  },
  {
   "cell_type": "code",
   "execution_count": null,
   "metadata": {},
   "outputs": [],
   "source": []
  },
  {
   "cell_type": "code",
   "execution_count": 46,
   "metadata": {},
   "outputs": [
    {
     "data": {
      "text/plain": [
       "array([[[ 0,  8],\n",
       "        [ 1,  9],\n",
       "        [ 2, 10],\n",
       "        [ 3, 11]],\n",
       "\n",
       "       [[ 4, 12],\n",
       "        [ 5, 13],\n",
       "        [ 6, 14],\n",
       "        [ 7, 15]]])"
      ]
     },
     "execution_count": 46,
     "metadata": {},
     "output_type": "execute_result"
    }
   ],
   "source": [
    "arr.transpose((1, 2, 0))"
   ]
  },
  {
   "cell_type": "code",
   "execution_count": 47,
   "metadata": {},
   "outputs": [
    {
     "data": {
      "text/plain": [
       "array([[[ 0,  8],\n",
       "        [ 4, 12]],\n",
       "\n",
       "       [[ 1,  9],\n",
       "        [ 5, 13]],\n",
       "\n",
       "       [[ 2, 10],\n",
       "        [ 6, 14]],\n",
       "\n",
       "       [[ 3, 11],\n",
       "        [ 7, 15]]])"
      ]
     },
     "execution_count": 47,
     "metadata": {},
     "output_type": "execute_result"
    }
   ],
   "source": [
    "arr.transpose((2, 1, 0))"
   ]
  },
  {
   "cell_type": "code",
   "execution_count": 3,
   "metadata": {},
   "outputs": [
    {
     "data": {
      "text/plain": [
       "array([ 2.03125781,  3.01114348,  0.39225079,  1.38045502, -1.92664323,\n",
       "        0.34081345,  0.34764252])"
      ]
     },
     "execution_count": 3,
     "metadata": {},
     "output_type": "execute_result"
    }
   ],
   "source": [
    "arr=np.random.randn(7)\n",
    "arr"
   ]
  },
  {
   "cell_type": "code",
   "execution_count": 4,
   "metadata": {},
   "outputs": [
    {
     "name": "stderr",
     "output_type": "stream",
     "text": [
      "C:\\Users\\JJJ\\Anaconda3\\lib\\site-packages\\ipykernel_launcher.py:1: RuntimeWarning: invalid value encountered in sqrt\n",
      "  \"\"\"Entry point for launching an IPython kernel.\n"
     ]
    },
    {
     "data": {
      "text/plain": [
       "array([1.42522202, 1.73526467, 0.62629929, 1.17492767,        nan,\n",
       "       0.5837923 , 0.58961218])"
      ]
     },
     "execution_count": 4,
     "metadata": {},
     "output_type": "execute_result"
    }
   ],
   "source": [
    "np.sqrt(arr)"
   ]
  },
  {
   "cell_type": "code",
   "execution_count": 5,
   "metadata": {},
   "outputs": [
    {
     "name": "stderr",
     "output_type": "stream",
     "text": [
      "C:\\Users\\JJJ\\Anaconda3\\lib\\site-packages\\ipykernel_launcher.py:1: RuntimeWarning: invalid value encountered in sqrt\n",
      "  \"\"\"Entry point for launching an IPython kernel.\n"
     ]
    },
    {
     "data": {
      "text/plain": [
       "array([1.42522202, 1.73526467, 0.62629929, 1.17492767,        nan,\n",
       "       0.5837923 , 0.58961218])"
      ]
     },
     "execution_count": 5,
     "metadata": {},
     "output_type": "execute_result"
    }
   ],
   "source": [
    "np.sqrt(arr,arr)"
   ]
  },
  {
   "cell_type": "code",
   "execution_count": 10,
   "metadata": {},
   "outputs": [
    {
     "data": {
      "text/plain": [
       "array([-0.11925634, -1.31860979, -0.7466462 , -1.35603804, -0.78315423,\n",
       "        0.09964695,  1.7655204 , -0.74506583])"
      ]
     },
     "execution_count": 10,
     "metadata": {},
     "output_type": "execute_result"
    }
   ],
   "source": [
    "arr1=np.random.randn(8)\n",
    "arr1"
   ]
  },
  {
   "cell_type": "code",
   "execution_count": 11,
   "metadata": {},
   "outputs": [
    {
     "data": {
      "text/plain": [
       "array([ 1.31038787,  1.28477613,  0.15843393, -0.71836536, -0.60867063,\n",
       "       -1.06939914,  0.23107558,  0.12375667])"
      ]
     },
     "execution_count": 11,
     "metadata": {},
     "output_type": "execute_result"
    }
   ],
   "source": [
    "arr2=np.random.randn(8)\n",
    "arr2"
   ]
  },
  {
   "cell_type": "code",
   "execution_count": 12,
   "metadata": {},
   "outputs": [
    {
     "data": {
      "text/plain": [
       "array([-1.4296442 , -2.60338591, -0.90508013, -0.63767268, -0.1744836 ,\n",
       "        1.16904609,  1.53444483, -0.8688225 ])"
      ]
     },
     "execution_count": 12,
     "metadata": {},
     "output_type": "execute_result"
    }
   ],
   "source": [
    "np.subtract(arr1,arr2)"
   ]
  },
  {
   "cell_type": "code",
   "execution_count": 13,
   "metadata": {},
   "outputs": [
    {
     "data": {
      "text/plain": [
       "array([0.01422207, 1.73873177, 0.55748055, 1.83883917, 0.61333055,\n",
       "       0.00992951, 3.1170623 , 0.55512309])"
      ]
     },
     "execution_count": 13,
     "metadata": {},
     "output_type": "execute_result"
    }
   ],
   "source": [
    "np.power(arr1,2)"
   ]
  },
  {
   "cell_type": "code",
   "execution_count": 14,
   "metadata": {},
   "outputs": [
    {
     "data": {
      "text/plain": [
       "array([0.01422207, 1.73873177, 0.55748055, 1.83883917, 0.61333055,\n",
       "       0.00992951, 3.1170623 , 0.55512309])"
      ]
     },
     "execution_count": 14,
     "metadata": {},
     "output_type": "execute_result"
    }
   ],
   "source": [
    "arr1**2"
   ]
  },
  {
   "cell_type": "code",
   "execution_count": 19,
   "metadata": {},
   "outputs": [],
   "source": [
    "points=np.arange(-5,5,0.01)\n",
    "xs,ys=np.meshgrid(points,points)"
   ]
  },
  {
   "cell_type": "code",
   "execution_count": 20,
   "metadata": {},
   "outputs": [
    {
     "data": {
      "text/plain": [
       "array([[7.07106781, 7.06400028, 7.05693985, ..., 7.04988652, 7.05693985,\n",
       "        7.06400028],\n",
       "       [7.06400028, 7.05692568, 7.04985815, ..., 7.04279774, 7.04985815,\n",
       "        7.05692568],\n",
       "       [7.05693985, 7.04985815, 7.04278354, ..., 7.03571603, 7.04278354,\n",
       "        7.04985815],\n",
       "       ...,\n",
       "       [7.04988652, 7.04279774, 7.03571603, ..., 7.0286414 , 7.03571603,\n",
       "        7.04279774],\n",
       "       [7.05693985, 7.04985815, 7.04278354, ..., 7.03571603, 7.04278354,\n",
       "        7.04985815],\n",
       "       [7.06400028, 7.05692568, 7.04985815, ..., 7.04279774, 7.04985815,\n",
       "        7.05692568]])"
      ]
     },
     "execution_count": 20,
     "metadata": {},
     "output_type": "execute_result"
    }
   ],
   "source": [
    "z=np.sqrt(xs**2+ys**2)\n",
    "z"
   ]
  },
  {
   "cell_type": "code",
   "execution_count": 26,
   "metadata": {},
   "outputs": [
    {
     "data": {
      "text/plain": [
       "Text(0.5,1,'Image plot of $\\\\sqrt{x^2+y^2}$ for a grid of values')"
      ]
     },
     "execution_count": 26,
     "metadata": {},
     "output_type": "execute_result"
    },
    {
     "data": {
      "image/png": "[encoded data removed]",
      "text/plain": [
       "<matplotlib.figure.Figure at 0x2a3205ebef0>"
      ]
     },
     "metadata": {},
     "output_type": "display_data"
    }
   ],
   "source": [
    "import matplotlib.pyplot as plt\n",
    "plt.imshow(z,cmap=plt.cm.gray)\n",
    "plt.colorbar()\n",
    "plt.title(\"Image plot of $\\sqrt{x^2+y^2}$ for a grid of values\")"
   ]
  },
  {
   "cell_type": "code",
   "execution_count": 27,
   "metadata": {},
   "outputs": [],
   "source": [
    "xarr = np.array([1.1, 1.2, 1.3, 1.4, 1.5])\n",
    "yarr = np.array([2.1, 2.2, 2.3, 2.4, 2.5])\n",
    "cond = np.array([True, False, True, True, False])"
   ]
  },
  {
   "cell_type": "code",
   "execution_count": 28,
   "metadata": {},
   "outputs": [
    {
     "data": {
      "text/plain": [
       "[1.1, 2.2, 1.3, 1.4, 2.5]"
      ]
     },
     "execution_count": 28,
     "metadata": {},
     "output_type": "execute_result"
    }
   ],
   "source": [
    "result = [(x if c else y) for x, y, c in zip(xarr, yarr, cond)]\n",
    "result"
   ]
  },
  {
   "cell_type": "code",
   "execution_count": 29,
   "metadata": {},
   "outputs": [
    {
     "data": {
      "text/plain": [
       "array([1.1, 2.2, 1.3, 1.4, 2.5])"
      ]
     },
     "execution_count": 29,
     "metadata": {},
     "output_type": "execute_result"
    }
   ],
   "source": [
    "result = np.where(cond, xarr, yarr)\n",
    "result"
   ]
  },
  {
   "cell_type": "code",
   "execution_count": 31,
   "metadata": {},
   "outputs": [
    {
     "data": {
      "text/plain": [
       "-0.40045038388890764"
      ]
     },
     "execution_count": 31,
     "metadata": {},
     "output_type": "execute_result"
    }
   ],
   "source": [
    "arr1.mean()"
   ]
  },
  {
   "cell_type": "code",
   "execution_count": 33,
   "metadata": {},
   "outputs": [
    {
     "data": {
      "text/plain": [
       "-0.40045038388890764"
      ]
     },
     "execution_count": 33,
     "metadata": {},
     "output_type": "execute_result"
    }
   ],
   "source": [
    "np.mean(arr1)"
   ]
  },
  {
   "cell_type": "code",
   "execution_count": 34,
   "metadata": {},
   "outputs": [
    {
     "data": {
      "text/plain": [
       "array([[  0,   0,   0],\n",
       "       [  3,  12,  60],\n",
       "       [  6,  42, 336]], dtype=int32)"
      ]
     },
     "execution_count": 34,
     "metadata": {},
     "output_type": "execute_result"
    }
   ],
   "source": [
    "arr = np.array([[0, 1, 2], [3, 4, 5], [6, 7, 8]])\n",
    "arr.cumprod(axis=1)"
   ]
  },
  {
   "cell_type": "code",
   "execution_count": 35,
   "metadata": {},
   "outputs": [
    {
     "data": {
      "text/plain": [
       "array([[ 0,  1,  2],\n",
       "       [ 0,  4, 10],\n",
       "       [ 0, 28, 80]], dtype=int32)"
      ]
     },
     "execution_count": 35,
     "metadata": {},
     "output_type": "execute_result"
    }
   ],
   "source": [
    "arr = np.array([[0, 1, 2], [3, 4, 5], [6, 7, 8]])\n",
    "arr.cumprod(axis=0)"
   ]
  },
  {
   "cell_type": "code",
   "execution_count": 36,
   "metadata": {},
   "outputs": [
    {
     "data": {
      "text/plain": [
       "True"
      ]
     },
     "execution_count": 36,
     "metadata": {},
     "output_type": "execute_result"
    }
   ],
   "source": [
    "arr1.any()"
   ]
  },
  {
   "cell_type": "code",
   "execution_count": 37,
   "metadata": {},
   "outputs": [
    {
     "data": {
      "text/plain": [
       "True"
      ]
     },
     "execution_count": 37,
     "metadata": {},
     "output_type": "execute_result"
    }
   ],
   "source": [
    "arr1.all()"
   ]
  },
  {
   "cell_type": "code",
   "execution_count": 38,
   "metadata": {},
   "outputs": [
    {
     "data": {
      "text/plain": [
       "2"
      ]
     },
     "execution_count": 38,
     "metadata": {},
     "output_type": "execute_result"
    }
   ],
   "source": [
    "(arr1>0).sum()"
   ]
  },
  {
   "cell_type": "code",
   "execution_count": 40,
   "metadata": {},
   "outputs": [
    {
     "data": {
      "text/plain": [
       "array([-3.30006561e+00, -3.06429687e+00, -2.74797905e+00, -2.70262362e+00,\n",
       "       -2.59340230e+00, -2.53014158e+00, -2.46064048e+00, -2.32526408e+00,\n",
       "       -2.23949082e+00, -2.19110991e+00, -2.18950257e+00, -2.17986667e+00,\n",
       "       -2.16444886e+00, -2.14621194e+00, -2.13029978e+00, -2.11856365e+00,\n",
       "       -2.08805625e+00, -2.07972714e+00, -2.03370365e+00, -2.03199489e+00,\n",
       "       -2.02930491e+00, -2.02519991e+00, -1.99782541e+00, -1.98367110e+00,\n",
       "       -1.97370034e+00, -1.93286116e+00, -1.92265354e+00, -1.87741274e+00,\n",
       "       -1.86269011e+00, -1.83384576e+00, -1.82228216e+00, -1.82151090e+00,\n",
       "       -1.80041371e+00, -1.77905086e+00, -1.74238436e+00, -1.72537781e+00,\n",
       "       -1.68517805e+00, -1.67247515e+00, -1.66867795e+00, -1.65090254e+00,\n",
       "       -1.65049693e+00, -1.64963179e+00, -1.64957557e+00, -1.64450906e+00,\n",
       "       -1.61228954e+00, -1.59737576e+00, -1.59387830e+00, -1.59018529e+00,\n",
       "       -1.58681961e+00, -1.57327239e+00, -1.56268112e+00, -1.55709760e+00,\n",
       "       -1.55153724e+00, -1.54995758e+00, -1.54739020e+00, -1.54148535e+00,\n",
       "       -1.53975387e+00, -1.52201032e+00, -1.51025582e+00, -1.50839934e+00,\n",
       "       -1.50699341e+00, -1.49803141e+00, -1.49332291e+00, -1.48955947e+00,\n",
       "       -1.48342215e+00, -1.47830166e+00, -1.47543988e+00, -1.47130811e+00,\n",
       "       -1.46860786e+00, -1.46546581e+00, -1.46126446e+00, -1.45897447e+00,\n",
       "       -1.45579660e+00, -1.45548483e+00, -1.44323025e+00, -1.43774245e+00,\n",
       "       -1.42488743e+00, -1.41804568e+00, -1.40439405e+00, -1.40145587e+00,\n",
       "       -1.39990260e+00, -1.37300730e+00, -1.36334480e+00, -1.35793597e+00,\n",
       "       -1.34980085e+00, -1.34321647e+00, -1.33969675e+00, -1.33687414e+00,\n",
       "       -1.33520697e+00, -1.32673910e+00, -1.32184988e+00, -1.32002073e+00,\n",
       "       -1.31715674e+00, -1.31330033e+00, -1.31068022e+00, -1.30823154e+00,\n",
       "       -1.30555700e+00, -1.29065848e+00, -1.27385280e+00, -1.26802168e+00,\n",
       "       -1.26730282e+00, -1.26495200e+00, -1.26284225e+00, -1.25975064e+00,\n",
       "       -1.25868645e+00, -1.25762023e+00, -1.23963983e+00, -1.23896058e+00,\n",
       "       -1.22836741e+00, -1.22416615e+00, -1.21910205e+00, -1.21606190e+00,\n",
       "       -1.21075557e+00, -1.20540094e+00, -1.19140427e+00, -1.18800928e+00,\n",
       "       -1.18500714e+00, -1.17109189e+00, -1.17089559e+00, -1.17074937e+00,\n",
       "       -1.16633771e+00, -1.16449369e+00, -1.16367327e+00, -1.16039375e+00,\n",
       "       -1.14908758e+00, -1.14728004e+00, -1.14490466e+00, -1.14167065e+00,\n",
       "       -1.12391442e+00, -1.11689704e+00, -1.11442043e+00, -1.11327122e+00,\n",
       "       -1.11147045e+00, -1.10740498e+00, -1.10725122e+00, -1.10601663e+00,\n",
       "       -1.10553963e+00, -1.10393828e+00, -1.10323068e+00, -1.10224241e+00,\n",
       "       -1.09130445e+00, -1.09093322e+00, -1.07867612e+00, -1.07759184e+00,\n",
       "       -1.07346076e+00, -1.06849027e+00, -1.06677666e+00, -1.05669938e+00,\n",
       "       -1.05400604e+00, -1.04802855e+00, -1.03500148e+00, -1.03230532e+00,\n",
       "       -1.03153333e+00, -1.02592812e+00, -1.02298446e+00, -1.01637415e+00,\n",
       "       -1.01212189e+00, -1.00676715e+00, -1.00475291e+00, -9.94198747e-01,\n",
       "       -9.93724795e-01, -9.91663513e-01, -9.91266164e-01, -9.88465122e-01,\n",
       "       -9.77871574e-01, -9.71691819e-01, -9.64731530e-01, -9.64684269e-01,\n",
       "       -9.58388006e-01, -9.54400190e-01, -9.46182925e-01, -9.45100337e-01,\n",
       "       -9.45037437e-01, -9.41599506e-01, -9.39776458e-01, -9.35237398e-01,\n",
       "       -9.31306298e-01, -9.15254142e-01, -9.12857057e-01, -9.12099861e-01,\n",
       "       -9.05948655e-01, -9.04106855e-01, -9.01318060e-01, -8.99545178e-01,\n",
       "       -8.97764433e-01, -8.94693356e-01, -8.90752093e-01, -8.90188846e-01,\n",
       "       -8.88959432e-01, -8.86623472e-01, -8.70439595e-01, -8.66343105e-01,\n",
       "       -8.59739811e-01, -8.58177051e-01, -8.57737641e-01, -8.57134549e-01,\n",
       "       -8.57031952e-01, -8.53796450e-01, -8.51304514e-01, -8.42346471e-01,\n",
       "       -8.39805059e-01, -8.26902104e-01, -8.20383316e-01, -8.15091973e-01,\n",
       "       -8.09159562e-01, -8.04216816e-01, -8.02141033e-01, -8.00044400e-01,\n",
       "       -7.98059009e-01, -7.92173775e-01, -7.83508097e-01, -7.82159827e-01,\n",
       "       -7.80538344e-01, -7.69794635e-01, -7.66923010e-01, -7.65660749e-01,\n",
       "       -7.59108190e-01, -7.59080201e-01, -7.54599824e-01, -7.52851820e-01,\n",
       "       -7.48905522e-01, -7.45068157e-01, -7.24774027e-01, -7.16205093e-01,\n",
       "       -7.11941938e-01, -7.11815999e-01, -7.08350803e-01, -7.05396089e-01,\n",
       "       -7.00902930e-01, -6.91606861e-01, -6.88304384e-01, -6.87232746e-01,\n",
       "       -6.85021606e-01, -6.81658277e-01, -6.79008841e-01, -6.76653856e-01,\n",
       "       -6.73182344e-01, -6.70968339e-01, -6.70172911e-01, -6.60882453e-01,\n",
       "       -6.58532425e-01, -6.57889287e-01, -6.55973874e-01, -6.54192710e-01,\n",
       "       -6.50547368e-01, -6.48729277e-01, -6.44422731e-01, -6.41965463e-01,\n",
       "       -6.36621463e-01, -6.32937247e-01, -6.32088118e-01, -6.31866091e-01,\n",
       "       -6.31001764e-01, -6.30232295e-01, -6.23053210e-01, -6.22860998e-01,\n",
       "       -6.22487219e-01, -6.21633091e-01, -6.21595431e-01, -6.20440167e-01,\n",
       "       -6.19875432e-01, -6.15196960e-01, -6.14489551e-01, -6.14429933e-01,\n",
       "       -6.11378444e-01, -6.07719600e-01, -6.01054559e-01, -5.91547214e-01,\n",
       "       -5.91229165e-01, -5.87905417e-01, -5.85770483e-01, -5.84820937e-01,\n",
       "       -5.82258328e-01, -5.81685271e-01, -5.81451911e-01, -5.81197759e-01,\n",
       "       -5.78714398e-01, -5.73379214e-01, -5.73262042e-01, -5.65184285e-01,\n",
       "       -5.56022196e-01, -5.51114211e-01, -5.49560218e-01, -5.44286650e-01,\n",
       "       -5.43602931e-01, -5.40935712e-01, -5.38325089e-01, -5.38236431e-01,\n",
       "       -5.36512061e-01, -5.32909242e-01, -5.28644929e-01, -5.23136620e-01,\n",
       "       -5.22997245e-01, -5.21688871e-01, -5.20774158e-01, -5.19070326e-01,\n",
       "       -5.14606137e-01, -5.12774068e-01, -5.06422951e-01, -5.06190271e-01,\n",
       "       -5.00597791e-01, -4.99689663e-01, -4.99563416e-01, -4.92398614e-01,\n",
       "       -4.90932327e-01, -4.89876261e-01, -4.89151769e-01, -4.85338959e-01,\n",
       "       -4.84989961e-01, -4.80678469e-01, -4.80217843e-01, -4.77916333e-01,\n",
       "       -4.77294758e-01, -4.76136778e-01, -4.75116295e-01, -4.55429752e-01,\n",
       "       -4.54447370e-01, -4.53119148e-01, -4.49124397e-01, -4.45111499e-01,\n",
       "       -4.43425069e-01, -4.43044072e-01, -4.42077846e-01, -4.38183981e-01,\n",
       "       -4.27691550e-01, -4.26100574e-01, -4.25987949e-01, -4.25039294e-01,\n",
       "       -4.23212676e-01, -4.22000329e-01, -4.18597505e-01, -4.18034214e-01,\n",
       "       -4.15372670e-01, -4.14681625e-01, -4.07720390e-01, -4.07298875e-01,\n",
       "       -4.03720926e-01, -3.99329672e-01, -3.99299558e-01, -3.98630455e-01,\n",
       "       -3.95455219e-01, -3.92776413e-01, -3.92087077e-01, -3.89787222e-01,\n",
       "       -3.84387151e-01, -3.75230330e-01, -3.74131204e-01, -3.73341252e-01,\n",
       "       -3.69280848e-01, -3.64251641e-01, -3.63329742e-01, -3.52600509e-01,\n",
       "       -3.50951681e-01, -3.50109599e-01, -3.35125026e-01, -3.34970136e-01,\n",
       "       -3.29879284e-01, -3.28214334e-01, -3.27235238e-01, -3.26032952e-01,\n",
       "       -3.25857831e-01, -3.23671553e-01, -3.21244155e-01, -3.20201904e-01,\n",
       "       -3.18619961e-01, -3.14510467e-01, -3.12162955e-01, -3.11635755e-01,\n",
       "       -3.10480074e-01, -3.05391259e-01, -3.01254120e-01, -2.97016553e-01,\n",
       "       -2.92192603e-01, -2.90240152e-01, -2.89433845e-01, -2.83578558e-01,\n",
       "       -2.82291038e-01, -2.82093077e-01, -2.80979517e-01, -2.78003794e-01,\n",
       "       -2.74394364e-01, -2.71022546e-01, -2.60293530e-01, -2.57465699e-01,\n",
       "       -2.55815864e-01, -2.55228610e-01, -2.53568575e-01, -2.50633047e-01,\n",
       "       -2.47719996e-01, -2.47543404e-01, -2.45864513e-01, -2.44112900e-01,\n",
       "       -2.37684178e-01, -2.35571522e-01, -2.28276447e-01, -2.24160342e-01,\n",
       "       -2.20662344e-01, -2.20636628e-01, -2.17107485e-01, -2.14774881e-01,\n",
       "       -2.14471712e-01, -2.09953039e-01, -2.09088984e-01, -2.06386178e-01,\n",
       "       -2.05909840e-01, -2.03443744e-01, -2.01767055e-01, -2.00753273e-01,\n",
       "       -2.00562728e-01, -2.00509768e-01, -1.88731935e-01, -1.87319913e-01,\n",
       "       -1.87052798e-01, -1.83396476e-01, -1.82296439e-01, -1.79618910e-01,\n",
       "       -1.76871334e-01, -1.76687447e-01, -1.71406560e-01, -1.65661120e-01,\n",
       "       -1.65635542e-01, -1.59079986e-01, -1.54644253e-01, -1.54352518e-01,\n",
       "       -1.54288316e-01, -1.48270306e-01, -1.47147162e-01, -1.45198530e-01,\n",
       "       -1.43429704e-01, -1.43389884e-01, -1.36128291e-01, -1.35057240e-01,\n",
       "       -1.33724181e-01, -1.31281439e-01, -1.31187197e-01, -1.21023353e-01,\n",
       "       -1.19410493e-01, -1.16444271e-01, -1.11880565e-01, -1.00745506e-01,\n",
       "       -9.98450792e-02, -9.91154148e-02, -9.82496381e-02, -9.75171866e-02,\n",
       "       -9.40451837e-02, -9.31250226e-02, -9.19042564e-02, -8.62430027e-02,\n",
       "       -8.55346185e-02, -8.50950187e-02, -7.92323653e-02, -7.78074468e-02,\n",
       "       -7.61183117e-02, -6.60264206e-02, -6.05934322e-02, -5.87851587e-02,\n",
       "       -4.69251027e-02, -4.64833824e-02, -4.29334482e-02, -4.02289863e-02,\n",
       "       -4.02181745e-02, -3.92348864e-02, -3.79908948e-02, -3.57850571e-02,\n",
       "       -3.50352655e-02, -3.50296583e-02, -3.42106182e-02, -3.11347431e-02,\n",
       "       -2.82155399e-02, -2.81897624e-02, -2.66366125e-02, -2.59457106e-02,\n",
       "       -2.45706955e-02, -2.22552048e-02, -2.09970650e-02, -1.95376180e-02,\n",
       "       -1.74966510e-02, -1.60535258e-02, -3.96091775e-03, -6.16942937e-05,\n",
       "        1.66703956e-03,  5.80988536e-03,  8.82220344e-03,  9.75991707e-03,\n",
       "        1.15945716e-02,  1.16930468e-02,  1.45801264e-02,  1.83947050e-02,\n",
       "        2.26328061e-02,  2.70957875e-02,  2.78486917e-02,  2.92097798e-02,\n",
       "        3.01393146e-02,  3.46381327e-02,  3.50103245e-02,  3.50507499e-02,\n",
       "        3.85968596e-02,  3.92945108e-02,  3.95712835e-02,  4.10780553e-02,\n",
       "        4.13552602e-02,  4.25721394e-02,  4.37098013e-02,  4.85755784e-02,\n",
       "        4.87482590e-02,  4.91823417e-02,  5.07106822e-02,  5.30819025e-02,\n",
       "        5.76501112e-02,  5.83787808e-02,  5.87872997e-02,  7.31019434e-02,\n",
       "        8.04423958e-02,  8.24627911e-02,  9.22122749e-02,  9.37154270e-02,\n",
       "        1.04136298e-01,  1.07456236e-01,  1.09311054e-01,  1.09673999e-01,\n",
       "        1.13354387e-01,  1.13398317e-01,  1.14602297e-01,  1.14856602e-01,\n",
       "        1.19852520e-01,  1.20518538e-01,  1.23490938e-01,  1.25039477e-01,\n",
       "        1.29584354e-01,  1.30354248e-01,  1.34871948e-01,  1.35179379e-01,\n",
       "        1.36334143e-01,  1.39486761e-01,  1.39941945e-01,  1.40509849e-01,\n",
       "        1.45768657e-01,  1.47477311e-01,  1.49629736e-01,  1.50478203e-01,\n",
       "        1.50874440e-01,  1.54304991e-01,  1.55718640e-01,  1.57259775e-01,\n",
       "        1.60328723e-01,  1.60989068e-01,  1.76682050e-01,  1.79661401e-01,\n",
       "        1.81229291e-01,  1.83899570e-01,  1.85926270e-01,  1.89889977e-01,\n",
       "        1.92457023e-01,  1.96533657e-01,  1.97581665e-01,  1.98050977e-01,\n",
       "        2.01021379e-01,  2.03129391e-01,  2.06301313e-01,  2.08879648e-01,\n",
       "        2.11843403e-01,  2.13164089e-01,  2.15628445e-01,  2.15747957e-01,\n",
       "        2.16473139e-01,  2.16852992e-01,  2.20193598e-01,  2.20382358e-01,\n",
       "        2.22170074e-01,  2.24373812e-01,  2.29337013e-01,  2.29747992e-01,\n",
       "        2.30029166e-01,  2.32858334e-01,  2.33322761e-01,  2.37894207e-01,\n",
       "        2.40405088e-01,  2.40524062e-01,  2.48080111e-01,  2.48103305e-01,\n",
       "        2.48323355e-01,  2.52112173e-01,  2.52115915e-01,  2.52947619e-01,\n",
       "        2.53660891e-01,  2.55321668e-01,  2.57940970e-01,  2.59662463e-01,\n",
       "        2.59962872e-01,  2.64522414e-01,  2.73104498e-01,  2.76412809e-01,\n",
       "        2.79214383e-01,  2.79221787e-01,  2.80536406e-01,  2.87236859e-01,\n",
       "        2.94155207e-01,  2.95873670e-01,  2.95956724e-01,  2.96043064e-01,\n",
       "        2.96150656e-01,  2.98490656e-01,  3.01064574e-01,  3.04171477e-01,\n",
       "        3.08303659e-01,  3.10155389e-01,  3.11592749e-01,  3.12316564e-01,\n",
       "        3.14879930e-01,  3.17339504e-01,  3.18466157e-01,  3.19371251e-01,\n",
       "        3.28437555e-01,  3.30430355e-01,  3.36237602e-01,  3.37565113e-01,\n",
       "        3.38536012e-01,  3.42438550e-01,  3.43953629e-01,  3.45166792e-01,\n",
       "        3.46446800e-01,  3.46960934e-01,  3.48507874e-01,  3.52232860e-01,\n",
       "        3.53042398e-01,  3.53313131e-01,  3.55279155e-01,  3.56828804e-01,\n",
       "        3.58826538e-01,  3.59828661e-01,  3.60191506e-01,  3.60690091e-01,\n",
       "        3.63999950e-01,  3.67215650e-01,  3.67455485e-01,  3.69960900e-01,\n",
       "        3.70346149e-01,  3.78269046e-01,  3.81292700e-01,  3.84253860e-01,\n",
       "        3.92437907e-01,  4.07055477e-01,  4.09607039e-01,  4.10027924e-01,\n",
       "        4.10135951e-01,  4.10212297e-01,  4.10776193e-01,  4.12334054e-01,\n",
       "        4.19877769e-01,  4.29295035e-01,  4.29429877e-01,  4.29549390e-01,\n",
       "        4.36969593e-01,  4.39536838e-01,  4.44332024e-01,  4.52963272e-01,\n",
       "        4.54633547e-01,  4.55149614e-01,  4.66033163e-01,  4.68390226e-01,\n",
       "        4.69425226e-01,  4.71113738e-01,  4.74473836e-01,  4.75062687e-01,\n",
       "        4.75401285e-01,  4.79778571e-01,  4.83439470e-01,  4.85329755e-01,\n",
       "        4.85329949e-01,  4.85399652e-01,  4.92811683e-01,  4.93364982e-01,\n",
       "        4.94494941e-01,  5.00136372e-01,  5.10803143e-01,  5.12908016e-01,\n",
       "        5.16551096e-01,  5.21169970e-01,  5.22992334e-01,  5.25753432e-01,\n",
       "        5.30796777e-01,  5.32231316e-01,  5.33863498e-01,  5.35922330e-01,\n",
       "        5.36528903e-01,  5.39152319e-01,  5.41246683e-01,  5.42360114e-01,\n",
       "        5.46857382e-01,  5.49568898e-01,  5.49810106e-01,  5.52381627e-01,\n",
       "        5.59589502e-01,  5.61994514e-01,  5.62861079e-01,  5.63152870e-01,\n",
       "        5.63898442e-01,  5.68622402e-01,  5.72536581e-01,  5.74811427e-01,\n",
       "        5.76116766e-01,  5.77727652e-01,  5.81261412e-01,  5.82507034e-01,\n",
       "        5.91284297e-01,  5.93304947e-01,  5.98720464e-01,  5.99658117e-01,\n",
       "        6.00653789e-01,  6.02166387e-01,  6.02924020e-01,  6.06253392e-01,\n",
       "        6.12759786e-01,  6.17927434e-01,  6.25722494e-01,  6.27246555e-01,\n",
       "        6.28146439e-01,  6.28600262e-01,  6.41915916e-01,  6.44271064e-01,\n",
       "        6.49849657e-01,  6.53077723e-01,  6.58459560e-01,  6.65592354e-01,\n",
       "        6.69522124e-01,  6.69626466e-01,  6.69824216e-01,  6.75424024e-01,\n",
       "        6.81893819e-01,  6.88785178e-01,  6.90656163e-01,  6.91625719e-01,\n",
       "        6.93245017e-01,  6.94151707e-01,  6.97154212e-01,  6.99300900e-01,\n",
       "        7.01471112e-01,  7.02809309e-01,  7.06697579e-01,  7.08362239e-01,\n",
       "        7.14673843e-01,  7.15296931e-01,  7.18609062e-01,  7.24749708e-01,\n",
       "        7.27376998e-01,  7.27648336e-01,  7.30612729e-01,  7.31360008e-01,\n",
       "        7.35602399e-01,  7.37298501e-01,  7.38706998e-01,  7.42527729e-01,\n",
       "        7.45458839e-01,  7.47263083e-01,  7.51978553e-01,  7.53135002e-01,\n",
       "        7.59092128e-01,  7.63060686e-01,  7.63493364e-01,  7.71561071e-01,\n",
       "        7.71661769e-01,  7.71888756e-01,  7.74938480e-01,  7.76951564e-01,\n",
       "        7.78805739e-01,  7.80480009e-01,  7.80859469e-01,  7.82705850e-01,\n",
       "        7.83171587e-01,  7.83241492e-01,  7.84617862e-01,  7.88583108e-01,\n",
       "        7.89736289e-01,  7.96019368e-01,  7.96772628e-01,  7.97044691e-01,\n",
       "        7.97073727e-01,  7.99211790e-01,  7.99254329e-01,  8.02104818e-01,\n",
       "        8.03915867e-01,  8.04539649e-01,  8.10453446e-01,  8.16246128e-01,\n",
       "        8.17570525e-01,  8.25432864e-01,  8.29780798e-01,  8.34882937e-01,\n",
       "        8.39629337e-01,  8.41955009e-01,  8.42179393e-01,  8.50474278e-01,\n",
       "        8.50929016e-01,  8.53258551e-01,  8.60964345e-01,  8.70227421e-01,\n",
       "        8.80377534e-01,  8.84623482e-01,  8.87504756e-01,  8.97187421e-01,\n",
       "        8.99432214e-01,  9.00311805e-01,  9.02317670e-01,  9.03964434e-01,\n",
       "        9.06376769e-01,  9.08148022e-01,  9.14121739e-01,  9.15975175e-01,\n",
       "        9.20982943e-01,  9.24971432e-01,  9.32628690e-01,  9.33445259e-01,\n",
       "        9.40450477e-01,  9.44001820e-01,  9.47682966e-01,  9.49063876e-01,\n",
       "        9.50532627e-01,  9.56638814e-01,  9.58364413e-01,  9.63527949e-01,\n",
       "        9.64411823e-01,  9.66353335e-01,  9.68986712e-01,  9.70571431e-01,\n",
       "        9.77515365e-01,  9.80832703e-01,  9.81318906e-01,  9.83320755e-01,\n",
       "        9.88170758e-01,  9.89299136e-01,  9.89978094e-01,  9.92302318e-01,\n",
       "        9.93890592e-01,  9.95227182e-01,  9.95383843e-01,  9.96306520e-01,\n",
       "        9.97405579e-01,  9.98779210e-01,  1.00042098e+00,  1.00252871e+00,\n",
       "        1.00554374e+00,  1.00587958e+00,  1.01526708e+00,  1.01590030e+00,\n",
       "        1.02438907e+00,  1.02877396e+00,  1.03368197e+00,  1.04103619e+00,\n",
       "        1.04285911e+00,  1.04403854e+00,  1.04811487e+00,  1.05248870e+00,\n",
       "        1.05295093e+00,  1.05555308e+00,  1.06947290e+00,  1.07078279e+00,\n",
       "        1.07101049e+00,  1.07304969e+00,  1.07802969e+00,  1.07975238e+00,\n",
       "        1.08881256e+00,  1.09075685e+00,  1.09355508e+00,  1.10866851e+00,\n",
       "        1.11427917e+00,  1.12393042e+00,  1.13002901e+00,  1.13163084e+00,\n",
       "        1.13394133e+00,  1.14852351e+00,  1.15250732e+00,  1.16332712e+00,\n",
       "        1.16833301e+00,  1.17155070e+00,  1.17471773e+00,  1.17636157e+00,\n",
       "        1.18228735e+00,  1.18647588e+00,  1.19477222e+00,  1.19939184e+00,\n",
       "        1.20112839e+00,  1.20361390e+00,  1.20964126e+00,  1.21070096e+00,\n",
       "        1.21502490e+00,  1.21624084e+00,  1.22363526e+00,  1.22511682e+00,\n",
       "        1.22839126e+00,  1.23357164e+00,  1.23780476e+00,  1.24103889e+00,\n",
       "        1.24510423e+00,  1.24549329e+00,  1.24760370e+00,  1.25117128e+00,\n",
       "        1.27039491e+00,  1.27159031e+00,  1.27399977e+00,  1.27879388e+00,\n",
       "        1.28853394e+00,  1.29776317e+00,  1.30105950e+00,  1.30289155e+00,\n",
       "        1.30823147e+00,  1.32505285e+00,  1.33322166e+00,  1.33642589e+00,\n",
       "        1.34002429e+00,  1.34667688e+00,  1.35670598e+00,  1.35683012e+00,\n",
       "        1.35796705e+00,  1.36192243e+00,  1.36285057e+00,  1.36520252e+00,\n",
       "        1.36583398e+00,  1.36642550e+00,  1.36703338e+00,  1.36764966e+00,\n",
       "        1.38101384e+00,  1.38756657e+00,  1.39291738e+00,  1.42090306e+00,\n",
       "        1.42362270e+00,  1.42374247e+00,  1.43376990e+00,  1.44290007e+00,\n",
       "        1.44641448e+00,  1.46082074e+00,  1.46941728e+00,  1.47254240e+00,\n",
       "        1.48709880e+00,  1.50360578e+00,  1.51029206e+00,  1.51109833e+00,\n",
       "        1.51111449e+00,  1.53377894e+00,  1.54305242e+00,  1.54993474e+00,\n",
       "        1.56065610e+00,  1.56912202e+00,  1.57265229e+00,  1.58889778e+00,\n",
       "        1.59381511e+00,  1.60671632e+00,  1.63270388e+00,  1.63460182e+00,\n",
       "        1.63751904e+00,  1.65710442e+00,  1.66291895e+00,  1.66499718e+00,\n",
       "        1.66659075e+00,  1.67658246e+00,  1.69003510e+00,  1.69575291e+00,\n",
       "        1.71826344e+00,  1.72241983e+00,  1.73126992e+00,  1.73775373e+00,\n",
       "        1.74681894e+00,  1.74701155e+00,  1.76597715e+00,  1.78173189e+00,\n",
       "        1.78995683e+00,  1.79664718e+00,  1.79738029e+00,  1.80012157e+00,\n",
       "        1.83111941e+00,  1.84145520e+00,  1.85659379e+00,  1.87969485e+00,\n",
       "        1.88606697e+00,  1.89045680e+00,  1.89947334e+00,  1.90289158e+00,\n",
       "        1.91699671e+00,  1.95200791e+00,  1.96346566e+00,  1.97623274e+00,\n",
       "        2.00222085e+00,  2.00630844e+00,  2.04101017e+00,  2.04389188e+00,\n",
       "        2.11075845e+00,  2.12428779e+00,  2.13804115e+00,  2.23439216e+00,\n",
       "        2.26418398e+00,  2.35541471e+00,  2.38200801e+00,  2.41067203e+00,\n",
       "        2.42739465e+00,  2.48898443e+00,  2.55265545e+00,  2.58436861e+00,\n",
       "        2.59476927e+00,  2.64564156e+00,  3.08165397e+00,  3.62015321e+00])"
      ]
     },
     "execution_count": 40,
     "metadata": {},
     "output_type": "execute_result"
    }
   ],
   "source": [
    "large_arr = np.random.randn(1000)\n",
    "large_arr.sort()\n",
    "large_arr"
   ]
  },
  {
   "cell_type": "code",
   "execution_count": 41,
   "metadata": {},
   "outputs": [
    {
     "data": {
      "text/plain": [
       "-1.562681124309083"
      ]
     },
     "execution_count": 41,
     "metadata": {},
     "output_type": "execute_result"
    }
   ],
   "source": [
    "large_arr[int(0.05 * len(large_arr))]"
   ]
  },
  {
   "cell_type": "code",
   "execution_count": 43,
   "metadata": {},
   "outputs": [
    {
     "data": {
      "text/plain": [
       "50"
      ]
     },
     "execution_count": 43,
     "metadata": {},
     "output_type": "execute_result"
    }
   ],
   "source": [
    "int(0.05 * len(large_arr))"
   ]
  },
  {
   "cell_type": "code",
   "execution_count": 44,
   "metadata": {},
   "outputs": [
    {
     "data": {
      "text/plain": [
       "['Bob', 'Joe', 'Will']"
      ]
     },
     "execution_count": 44,
     "metadata": {},
     "output_type": "execute_result"
    }
   ],
   "source": [
    "names =np.array(['Bob', 'Joe', 'Will', 'Bob', 'Will', 'Joe', 'Joe'])\n",
    "sorted(set(names))"
   ]
  },
  {
   "cell_type": "code",
   "execution_count": 45,
   "metadata": {},
   "outputs": [
    {
     "data": {
      "text/plain": [
       "dtype('<U4')"
      ]
     },
     "execution_count": 45,
     "metadata": {},
     "output_type": "execute_result"
    }
   ],
   "source": [
    "names.dtype"
   ]
  },
  {
   "cell_type": "code",
   "execution_count": 46,
   "metadata": {},
   "outputs": [
    {
     "data": {
      "text/plain": [
       "array(['Bob', 'Joe', 'Will', 'Bob', 'Will', 'Joe', 'Joe'], dtype='<U4')"
      ]
     },
     "execution_count": 46,
     "metadata": {},
     "output_type": "execute_result"
    }
   ],
   "source": [
    "names"
   ]
  },
  {
   "cell_type": "code",
   "execution_count": 4,
   "metadata": {},
   "outputs": [],
   "source": [
    "arr=np.arange(10)"
   ]
  },
  {
   "cell_type": "code",
   "execution_count": 5,
   "metadata": {},
   "outputs": [],
   "source": [
    "np.save('some_array',arr)"
   ]
  },
  {
   "cell_type": "code",
   "execution_count": 6,
   "metadata": {},
   "outputs": [
    {
     "data": {
      "text/plain": [
       "array([0, 1, 2, 3, 4, 5, 6, 7, 8, 9])"
      ]
     },
     "execution_count": 6,
     "metadata": {},
     "output_type": "execute_result"
    }
   ],
   "source": [
    "np.load('some_array.npy')"
   ]
  },
  {
   "cell_type": "code",
   "execution_count": 7,
   "metadata": {},
   "outputs": [],
   "source": [
    "np.savez_compressed('arrays_compressed.npz',a=arr,b=arr)"
   ]
  },
  {
   "cell_type": "code",
   "execution_count": 9,
   "metadata": {},
   "outputs": [],
   "source": [
    "arch=np.load('arrays_compressed.npz')"
   ]
  },
  {
   "cell_type": "code",
   "execution_count": 11,
   "metadata": {},
   "outputs": [
    {
     "data": {
      "text/plain": [
       "array([0, 1, 2, 3, 4, 5, 6, 7, 8, 9])"
      ]
     },
     "execution_count": 11,
     "metadata": {},
     "output_type": "execute_result"
    }
   ],
   "source": [
    "arch['b']"
   ]
  },
  {
   "cell_type": "code",
   "execution_count": 14,
   "metadata": {},
   "outputs": [],
   "source": [
    "x=np.array([[1,2,3],[4,5,6]])\n",
    "y=np.array([[4,5,6],[7,8,9]])"
   ]
  },
  {
   "cell_type": "code",
   "execution_count": 15,
   "metadata": {},
   "outputs": [
    {
     "data": {
      "text/plain": [
       "array([[ 4, 10, 18],\n",
       "       [28, 40, 54]])"
      ]
     },
     "execution_count": 15,
     "metadata": {},
     "output_type": "execute_result"
    }
   ],
   "source": [
    "x*y"
   ]
  },
  {
   "cell_type": "code",
   "execution_count": 16,
   "metadata": {},
   "outputs": [
    {
     "ename": "ValueError",
     "evalue": "shapes (2,3) and (2,3) not aligned: 3 (dim 1) != 2 (dim 0)",
     "output_type": "error",
     "traceback": [
      "\u001b[1;31m---------------------------------------------------------------------------\u001b[0m",
      "\u001b[1;31mValueError\u001b[0m                                Traceback (most recent call last)",
      "\u001b[1;32m<ipython-input-16-6849a5f7ad6c>\u001b[0m in \u001b[0;36m<module>\u001b[1;34m()\u001b[0m\n\u001b[1;32m----> 1\u001b[1;33m \u001b[0mnp\u001b[0m\u001b[1;33m.\u001b[0m\u001b[0mdot\u001b[0m\u001b[1;33m(\u001b[0m\u001b[0mx\u001b[0m\u001b[1;33m,\u001b[0m\u001b[0my\u001b[0m\u001b[1;33m)\u001b[0m\u001b[1;33m\u001b[0m\u001b[0m\n\u001b[0m",
      "\u001b[1;31mValueError\u001b[0m: shapes (2,3) and (2,3) not aligned: 3 (dim 1) != 2 (dim 0)"
     ]
    }
   ],
   "source": [
    "np.dot(x,y)"
   ]
  },
  {
   "cell_type": "code",
   "execution_count": 18,
   "metadata": {},
   "outputs": [
    {
     "data": {
      "text/plain": [
       "array([1., 1., 1.])"
      ]
     },
     "execution_count": 18,
     "metadata": {},
     "output_type": "execute_result"
    }
   ],
   "source": [
    "np.ones(3)"
   ]
  },
  {
   "cell_type": "code",
   "execution_count": 21,
   "metadata": {},
   "outputs": [],
   "source": [
    "from numpy.linalg import inv,qr"
   ]
  },
  {
   "cell_type": "code",
   "execution_count": 32,
   "metadata": {},
   "outputs": [],
   "source": [
    "x=np.random.randn(5,5)"
   ]
  },
  {
   "cell_type": "code",
   "execution_count": 33,
   "metadata": {},
   "outputs": [
    {
     "data": {
      "text/plain": [
       "array([[ 8.21917558, -1.20787305,  2.87714689,  5.16973771, -3.57794016],\n",
       "       [-1.20787305,  3.34808748,  0.92784388, -1.34557517,  0.82743777],\n",
       "       [ 2.87714689,  0.92784388,  5.01664705, -0.34612062,  1.97894089],\n",
       "       [ 5.16973771, -1.34557517, -0.34612062,  7.98780045, -4.37947623],\n",
       "       [-3.57794016,  0.82743777,  1.97894089, -4.37947623,  4.62486531]])"
      ]
     },
     "execution_count": 33,
     "metadata": {},
     "output_type": "execute_result"
    }
   ],
   "source": [
    "mat=np.dot(x.T,x)\n",
    "mat"
   ]
  },
  {
   "cell_type": "code",
   "execution_count": 28,
   "metadata": {},
   "outputs": [
    {
     "data": {
      "text/plain": [
       "array([[ 5.17039075, -1.18113674,  2.04488747, -2.93130901, -1.02286045],\n",
       "       [-1.18113674,  1.08642487, -0.75287213,  0.87457914,  0.85693776],\n",
       "       [ 2.04488747, -0.75287213,  1.21626265, -1.47128306, -0.78259594],\n",
       "       [-2.93130901,  0.87457914, -1.47128306,  2.17525379,  0.97153706],\n",
       "       [-1.02286045,  0.85693776, -0.78259594,  0.97153706,  0.96035208]])"
      ]
     },
     "execution_count": 28,
     "metadata": {},
     "output_type": "execute_result"
    }
   ],
   "source": [
    "inv(mat)"
   ]
  },
  {
   "cell_type": "code",
   "execution_count": 29,
   "metadata": {},
   "outputs": [
    {
     "data": {
      "text/plain": [
       "array([[ 0.42673281,  1.21579803,  1.48238923, -0.46147206, -1.04866139],\n",
       "       [-0.87344444, -0.24918635, -0.04444023, -0.15212303,  0.48611675],\n",
       "       [ 0.38072017,  0.8974639 ,  0.15329963, -0.19554786, -0.45181147],\n",
       "       [-0.15503908, -1.05209988, -0.44404924, -0.07427972,  0.91739048],\n",
       "       [-0.50403632, -0.32117699,  0.25308484,  0.05312456,  0.73230503]])"
      ]
     },
     "execution_count": 29,
     "metadata": {},
     "output_type": "execute_result"
    }
   ],
   "source": [
    "inv(x)"
   ]
  },
  {
   "cell_type": "code",
   "execution_count": 34,
   "metadata": {},
   "outputs": [
    {
     "data": {
      "text/plain": [
       "array([[ 1.00000000e+00,  0.00000000e+00,  0.00000000e+00,\n",
       "         0.00000000e+00,  0.00000000e+00],\n",
       "       [ 4.44089210e-16,  1.00000000e+00,  4.44089210e-16,\n",
       "        -5.55111512e-17,  8.88178420e-16],\n",
       "       [ 0.00000000e+00, -1.77635684e-15,  1.00000000e+00,\n",
       "         3.33066907e-16, -3.55271368e-15],\n",
       "       [ 3.55271368e-15, -8.88178420e-16,  0.00000000e+00,\n",
       "         1.00000000e+00,  0.00000000e+00],\n",
       "       [-3.55271368e-15,  8.88178420e-16,  0.00000000e+00,\n",
       "        -4.44089210e-16,  1.00000000e+00]])"
      ]
     },
     "execution_count": 34,
     "metadata": {},
     "output_type": "execute_result"
    }
   ],
   "source": [
    "np.dot(mat,inv(mat))"
   ]
  },
  {
   "cell_type": "code",
   "execution_count": 35,
   "metadata": {},
   "outputs": [
    {
     "data": {
      "text/plain": [
       "array([[ 1.00000000e+00,  0.00000000e+00,  0.00000000e+00,\n",
       "         0.00000000e+00,  0.00000000e+00],\n",
       "       [ 4.44089210e-16,  1.00000000e+00,  4.44089210e-16,\n",
       "        -5.55111512e-17,  8.88178420e-16],\n",
       "       [ 0.00000000e+00, -1.77635684e-15,  1.00000000e+00,\n",
       "         3.33066907e-16, -3.55271368e-15],\n",
       "       [ 3.55271368e-15, -8.88178420e-16,  0.00000000e+00,\n",
       "         1.00000000e+00,  0.00000000e+00],\n",
       "       [-3.55271368e-15,  8.88178420e-16,  0.00000000e+00,\n",
       "        -4.44089210e-16,  1.00000000e+00]])"
      ]
     },
     "execution_count": 35,
     "metadata": {},
     "output_type": "execute_result"
    }
   ],
   "source": [
    "mat.dot(inv(mat))"
   ]
  },
  {
   "cell_type": "code",
   "execution_count": 36,
   "metadata": {},
   "outputs": [
    {
     "data": {
      "text/plain": [
       "array([[ 1.00000000e+00, -1.38777878e-17,  0.00000000e+00,\n",
       "        -1.11022302e-16,  0.00000000e+00],\n",
       "       [ 5.55111512e-17,  1.00000000e+00,  2.35922393e-16,\n",
       "        -1.52655666e-16, -1.11022302e-16],\n",
       "       [ 5.55111512e-17,  4.85722573e-17,  1.00000000e+00,\n",
       "         5.55111512e-17,  0.00000000e+00],\n",
       "       [ 2.77555756e-17,  1.38777878e-17, -2.77555756e-17,\n",
       "         1.00000000e+00,  0.00000000e+00],\n",
       "       [ 1.38777878e-17,  0.00000000e+00, -1.38777878e-17,\n",
       "         1.38777878e-17,  1.00000000e+00]])"
      ]
     },
     "execution_count": 36,
     "metadata": {},
     "output_type": "execute_result"
    }
   ],
   "source": [
    "np.dot(x,inv(x))"
   ]
  },
  {
   "cell_type": "code",
   "execution_count": 37,
   "metadata": {},
   "outputs": [],
   "source": [
    "q,r=qr(mat)"
   ]
  },
  {
   "cell_type": "code",
   "execution_count": 38,
   "metadata": {},
   "outputs": [
    {
     "data": {
      "text/plain": [
       "array([[-0.76044947, -0.08170891, -0.13869741,  0.42058993,  0.46787542],\n",
       "       [ 0.11175408, -0.89682428,  0.38118994, -0.05442985,  0.18694614],\n",
       "       [-0.2661976 , -0.41576374, -0.64897967, -0.15591849, -0.55748916],\n",
       "       [-0.47831127,  0.11653494,  0.26470314, -0.8266827 ,  0.0645438 ],\n",
       "       [ 0.33103596, -0.05089191, -0.5866983 , -0.33530082,  0.65664577]])"
      ]
     },
     "execution_count": 38,
     "metadata": {},
     "output_type": "execute_result"
    }
   ],
   "source": [
    "q"
   ]
  },
  {
   "cell_type": "code",
   "execution_count": 39,
   "metadata": {},
   "outputs": [
    {
     "data": {
      "text/plain": [
       "array([[-10.80831266,   1.96321446,  -2.59899989,  -9.25998038,\n",
       "          5.91227246],\n",
       "       [  0.        ,  -3.48863242,  -3.29398862,   2.08197307,\n",
       "         -2.01821883],\n",
       "       [  0.        ,   0.        ,  -4.55373047,   3.67850346,\n",
       "         -4.34529216],\n",
       "       [  0.        ,   0.        ,   0.        ,  -2.83338877,\n",
       "          0.2112797 ],\n",
       "       [  0.        ,   0.        ,   0.        ,   0.        ,\n",
       "          0.1316482 ]])"
      ]
     },
     "execution_count": 39,
     "metadata": {},
     "output_type": "execute_result"
    }
   ],
   "source": [
    "r"
   ]
  },
  {
   "cell_type": "code",
   "execution_count": 40,
   "metadata": {},
   "outputs": [],
   "source": [
    "samples=np.random.normal(size=(4,4))"
   ]
  },
  {
   "cell_type": "code",
   "execution_count": 41,
   "metadata": {},
   "outputs": [
    {
     "data": {
      "text/plain": [
       "array([[-0.16751417, -1.27242987,  2.18894601,  0.43545412],\n",
       "       [-1.27411278,  0.10100543, -1.93342541,  0.45148155],\n",
       "       [-1.27026904,  0.5897508 ,  1.34511371, -0.85179312],\n",
       "       [-0.69340043, -1.99168451, -1.09142905,  1.24439637]])"
      ]
     },
     "execution_count": 41,
     "metadata": {},
     "output_type": "execute_result"
    }
   ],
   "source": [
    "samples"
   ]
  },
  {
   "cell_type": "code",
   "execution_count": 44,
   "metadata": {},
   "outputs": [],
   "source": [
    "samples0=np.random.normal(4,4)"
   ]
  },
  {
   "cell_type": "code",
   "execution_count": 45,
   "metadata": {},
   "outputs": [
    {
     "data": {
      "text/plain": [
       "-4.157005801541597"
      ]
     },
     "execution_count": 45,
     "metadata": {},
     "output_type": "execute_result"
    }
   ],
   "source": [
    "samples0"
   ]
  },
  {
   "cell_type": "code",
   "execution_count": 43,
   "metadata": {},
   "outputs": [
    {
     "data": {
      "text/plain": [
       "array([[-8.91740897e-01,  2.21980705e-03,  1.84474575e+00,\n",
       "         2.95767122e+00],\n",
       "       [-9.22250198e-01, -3.13735168e-01, -1.22842800e+00,\n",
       "        -1.82963843e+00],\n",
       "       [-6.31106056e-01,  1.33577013e+00, -1.27143377e+00,\n",
       "         4.10422024e-01],\n",
       "       [-2.73087140e-01,  1.53116352e-03, -1.92835969e-01,\n",
       "         1.73535782e+00]])"
      ]
     },
     "execution_count": 43,
     "metadata": {},
     "output_type": "execute_result"
    }
   ],
   "source": [
    "samples1=np.random.randn(4,4)\n",
    "samples1"
   ]
  },
  {
   "cell_type": "code",
   "execution_count": 55,
   "metadata": {},
   "outputs": [
    {
     "data": {
      "text/plain": [
       "[<matplotlib.lines.Line2D at 0x235ecd2a208>]"
      ]
     },
     "execution_count": 55,
     "metadata": {},
     "output_type": "execute_result"
    },
    {
     "data": {
      "image/png": "[encoded data removed]",
      "text/plain": [
       "<matplotlib.figure.Figure at 0x235ecc9e6d8>"
      ]
     },
     "metadata": {},
     "output_type": "display_data"
    }
   ],
   "source": [
    "import random\n",
    "position=0\n",
    "walk=[]\n",
    "steps=1000\n",
    "for i in range(steps):\n",
    "    step=2 if random.randint(0,1) else -1\n",
    "    position+=step\n",
    "    walk.append(position)\n",
    "plt.plot(walk[:100])"
   ]
  },
  {
   "cell_type": "code",
   "execution_count": 51,
   "metadata": {},
   "outputs": [],
   "source": [
    "import matplotlib.pyplot as plt"
   ]
  },
  {
   "cell_type": "code",
   "execution_count": 107,
   "metadata": {},
   "outputs": [
    {
     "data": {
      "text/plain": [
       "0"
      ]
     },
     "execution_count": 107,
     "metadata": {},
     "output_type": "execute_result"
    }
   ],
   "source": [
    "random.randint(0,1)"
   ]
  },
  {
   "cell_type": "code",
   "execution_count": 110,
   "metadata": {},
   "outputs": [
    {
     "data": {
      "text/plain": [
       "array([[  1,   2,   1, ..., -10,  -9, -10],\n",
       "       [  1,   2,   1, ..., -12, -11, -10],\n",
       "       [ -1,   0,   1, ...,  30,  31,  32],\n",
       "       ...,\n",
       "       [ -1,   0,   1, ..., -34, -33, -34],\n",
       "       [  1,   2,   3, ...,  52,  53,  54],\n",
       "       [ -1,  -2,  -3, ...,  34,  33,  34]], dtype=int32)"
      ]
     },
     "execution_count": 110,
     "metadata": {},
     "output_type": "execute_result"
    }
   ],
   "source": [
    "nwalks=5000\n",
    "nsteps=1000\n",
    "draws=np.random.randint(0,2,size=(nwalks,nsteps))\n",
    "steps=np.where(draws>0,1,-1)\n",
    "walks=steps.cumsum(1)\n",
    "walks"
   ]
  },
  {
   "cell_type": "code",
   "execution_count": 109,
   "metadata": {},
   "outputs": [
    {
     "data": {
      "text/plain": [
       "104"
      ]
     },
     "execution_count": 109,
     "metadata": {},
     "output_type": "execute_result"
    }
   ],
   "source": [
    "(np.abs(walk)>10).argmax()"
   ]
  },
  {
   "cell_type": "code",
   "execution_count": 112,
   "metadata": {},
   "outputs": [
    {
     "data": {
      "text/plain": [
       "array([[1, 1, 0, ..., 0, 1, 0],\n",
       "       [1, 1, 0, ..., 1, 1, 1],\n",
       "       [0, 1, 1, ..., 1, 1, 1],\n",
       "       ...,\n",
       "       [0, 1, 1, ..., 1, 1, 0],\n",
       "       [1, 1, 1, ..., 1, 1, 1],\n",
       "       [0, 0, 0, ..., 1, 0, 1]])"
      ]
     },
     "execution_count": 112,
     "metadata": {},
     "output_type": "execute_result"
    }
   ],
   "source": [
    "draws"
   ]
  },
  {
   "cell_type": "code",
   "execution_count": 115,
   "metadata": {},
   "outputs": [
    {
     "ename": "TypeError",
     "evalue": "'tuple' object is not callable",
     "output_type": "error",
     "traceback": [
      "\u001b[1;31m---------------------------------------------------------------------------\u001b[0m",
      "\u001b[1;31mTypeError\u001b[0m                                 Traceback (most recent call last)",
      "\u001b[1;32m<ipython-input-115-47c7fb40067e>\u001b[0m in \u001b[0;36m<module>\u001b[1;34m()\u001b[0m\n\u001b[1;32m----> 1\u001b[1;33m \u001b[0mdraws\u001b[0m\u001b[1;33m.\u001b[0m\u001b[0mshape\u001b[0m\u001b[1;33m(\u001b[0m\u001b[1;33m)\u001b[0m\u001b[1;33m\u001b[0m\u001b[0m\n\u001b[0m",
      "\u001b[1;31mTypeError\u001b[0m: 'tuple' object is not callable"
     ]
    }
   ],
   "source": []
  },
  {
   "cell_type": "code",
   "execution_count": null,
   "metadata": {},
   "outputs": [],
   "source": []
  }
 ],
 "metadata": {
  "kernelspec": {
   "display_name": "Python 3",
   "language": "python",
   "name": "python3"
  },
  "language_info": {
   "codemirror_mode": {
    "name": "ipython",
    "version": 3
   },
   "file_extension": ".py",
   "mimetype": "text/x-python",
   "name": "python",
   "nbconvert_exporter": "python",
   "pygments_lexer": "ipython3",
   "version": "3.6.4"
  },
  "toc": {
   "base_numbering": 1,
   "nav_menu": {},
   "number_sections": true,
   "sideBar": true,
   "skip_h1_title": false,
   "title_cell": "Table of Contents",
   "title_sidebar": "Contents",
   "toc_cell": false,
   "toc_position": {},
   "toc_section_display": true,
   "toc_window_display": false
  }
 },
 "nbformat": 4,
 "nbformat_minor": 2
}
